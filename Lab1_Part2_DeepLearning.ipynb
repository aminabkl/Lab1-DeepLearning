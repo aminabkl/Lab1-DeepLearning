{
  "nbformat": 4,
  "nbformat_minor": 0,
  "metadata": {
    "colab": {
      "provenance": []
    },
    "kernelspec": {
      "name": "python3",
      "display_name": "Python 3"
    },
    "language_info": {
      "name": "python"
    }
  },
  "cells": [
    {
      "cell_type": "markdown",
      "source": [],
      "metadata": {
        "id": "fwBh-ln_ccfk"
      }
    },
    {
      "cell_type": "code",
      "execution_count": 1,
      "metadata": {
        "id": "DdZ6pMF7Set1",
        "colab": {
          "base_uri": "https://localhost:8080/"
        },
        "outputId": "119e71a7-63aa-42ef-a12b-8f6cff6d301c"
      },
      "outputs": [
        {
          "output_type": "stream",
          "name": "stdout",
          "text": [
            "Mounted at /content/drive\n"
          ]
        }
      ],
      "source": [
        "from google.colab import drive\n",
        "drive.mount('/content/drive')"
      ]
    },
    {
      "cell_type": "code",
      "source": [
        "import pandas as pd\n",
        "import numpy as np\n",
        "import seaborn as sns\n",
        "import matplotlib.pyplot as plt\n",
        "from sklearn.utils import resample\n",
        "from sklearn.model_selection import train_test_split\n",
        "from sklearn.preprocessing import StandardScaler, LabelEncoder\n",
        "from sklearn.model_selection import GridSearchCV\n",
        "from sklearn.metrics import accuracy_score, classification_report, confusion_matrix\n",
        "import torch\n",
        "import torch.nn as nn\n",
        "import torch.optim as optim\n",
        "from torch.utils.data import DataLoader, TensorDataset\n",
        "from torchvision import transforms"
      ],
      "metadata": {
        "id": "1hfOqiHab55L"
      },
      "execution_count": null,
      "outputs": []
    },
    {
      "cell_type": "code",
      "source": [
        "path = '/content/drive/MyDrive/Colab Notebooks/datasets/predictive_maintenance.csv'\n",
        "data = pd.read_csv(path)\n",
        "\n",
        "###### Q1 : Data Pre-processing\n",
        "\n",
        "X = data.iloc[:, 3:8].values\n",
        "y = LabelEncoder().fit_transform(data['Target'])\n",
        "\n",
        "# Standardization/Normalization\n",
        "scaler = StandardScaler()\n",
        "X = scaler.fit_transform(X)"
      ],
      "metadata": {
        "id": "Ki9XXYcCcFZ5"
      },
      "execution_count": null,
      "outputs": []
    },
    {
      "cell_type": "code",
      "source": [
        "###### Q2 : Exploratory Data Analysis (EDA)\n",
        "\n",
        "# Understand the structure of the data\n",
        "print(data.describe())\n",
        "print(data.info())\n",
        "print(data.isnull().sum())\n",
        "\n",
        "# Visualize the data\n",
        "sns.pairplot(data)\n",
        "plt.show()"
      ],
      "metadata": {
        "id": "8Cv--CpGcoUo"
      },
      "execution_count": null,
      "outputs": []
    },
    {
      "cell_type": "code",
      "source": [
        "###### Q3 : Data augmentation technics\n",
        "\n",
        "minority_class = 'Failure'\n",
        "\n",
        "minority_data = data[data['Target'] == minority_class]\n",
        "majority_data = data[data['Target'] != minority_class]\n",
        "\n",
        "augmented_data = resample(minority_data, replace=True, n_samples=len(majority_data), random_state=42)\n",
        "augmented_dataset = pd.concat([majority_data, augmented_data])\n",
        "augmented_dataset = augmented_dataset.sample(frac=1, random_state=42).reset_index(drop=True)"
      ],
      "metadata": {
        "id": "l6St1VePdMLz"
      },
      "execution_count": null,
      "outputs": []
    },
    {
      "cell_type": "code",
      "source": [
        "###### Q4 : Deep Neural network Architecture\n",
        "\n",
        "X_train, X_test, y_train, y_test = train_test_split(X, y, test_size=0.2, random_state=42)\n",
        "\n",
        "# Deep Neural Network Architecture\n",
        "class NeuralNetwork(nn.Module):\n",
        "    def __init__(self, input_size, hidden_size, output_size):\n",
        "        super(NeuralNetwork, self).__init__()\n",
        "        self.fc1 = nn.Linear(input_size, hidden_size)\n",
        "        self.relu = nn.ReLU()\n",
        "        self.fc2 = nn.Linear(hidden_size, output_size)\n",
        "\n",
        "    def forward(self, x):\n",
        "        x = self.fc1(x)\n",
        "        x = self.relu(x)\n",
        "        x = self.fc2(x)\n",
        "        return x\n",
        "\n",
        "# Model Initialization\n",
        "input_size = X_train.shape[1]\n",
        "output_size = len(np.unique(y))\n",
        "hidden_size = 64\n",
        "model = NeuralNetwork(input_size, hidden_size, output_size)"
      ],
      "metadata": {
        "id": "J9feowySdWpP"
      },
      "execution_count": null,
      "outputs": []
    },
    {
      "cell_type": "code",
      "source": [
        "###### Q5 : GridSearch for Hyperparameters\n",
        "\n",
        "param_grid = {\n",
        "    'lr': [0.001, 0.01, 0.1],\n",
        "    'module__hidden_size': [32, 64, 128],\n",
        "}\n",
        "\n",
        "scoring = {'accuracy': make_scorer(accuracy_score)}\n",
        "\n",
        "grid_search = GridSearchCV(net, param_grid, scoring=scoring, refit='accuracy', cv=3)\n",
        "grid_search.fit(X_train, y_train)\n",
        "\n",
        "print(\"Best Parameters:\", grid_search.best_params_)\n",
        "best_model = grid_search.best_estimator_\n",
        "\n",
        "y_pred_test = best_model.predict(X_test)\n",
        "accuracy_test = accuracy_score(y_test, y_pred_test)\n",
        "print(\"Test Accuracy (Best Model):\", accuracy_test)"
      ],
      "metadata": {
        "id": "GPpDbEhveJ4U"
      },
      "execution_count": null,
      "outputs": []
    },
    {
      "cell_type": "code",
      "source": [
        "###### Q6 : Visualization\n",
        "\n",
        "\n",
        "criterion = nn.CrossEntropyLoss()\n",
        "optimizer = optim.Adam(model.parameters(), lr=0.001)\n",
        "\n",
        "# Training Loop\n",
        "epochs = 50\n",
        "train_losses, test_losses, accuracies = [], [], []\n",
        "\n",
        "for epoch in range(epochs):\n",
        "    # Training\n",
        "    model.train()\n",
        "    optimizer.zero_grad()\n",
        "    outputs = model(torch.FloatTensor(X_train))\n",
        "    loss = criterion(outputs, torch.LongTensor(y_train))\n",
        "    loss.backward()\n",
        "    optimizer.step()\n",
        "    train_losses.append(loss.item())\n",
        "\n",
        "    # Testing\n",
        "    model.eval()\n",
        "    with torch.no_grad():\n",
        "        test_outputs = model(torch.FloatTensor(X_test))\n",
        "        test_loss = criterion(test_outputs, torch.LongTensor(y_test))\n",
        "        test_losses.append(test_loss.item())\n",
        "\n",
        "        _, predicted = torch.max(test_outputs.data, 1)\n",
        "        accuracy = accuracy_score(y_test, predicted.numpy())\n",
        "        accuracies.append(accuracy)\n",
        "\n",
        "# Visualization\n",
        "plt.plot(train_losses, label='Training Loss')\n",
        "plt.plot(test_losses, label='Test Loss')\n",
        "plt.legend()\n",
        "plt.xlabel('Epochs')\n",
        "plt.ylabel('Loss')\n",
        "plt.show()\n",
        "\n",
        "plt.plot(accuracies, label='Accuracy')\n",
        "plt.legend()\n",
        "plt.xlabel('Epochs')\n",
        "plt.ylabel('Accuracy')\n",
        "plt.show()\n"
      ],
      "metadata": {
        "id": "TG_05U32el4w"
      },
      "execution_count": null,
      "outputs": []
    },
    {
      "cell_type": "code",
      "source": [
        "###### Q6 : Metrics Calculation\n",
        "\n",
        "model.eval()\n",
        "with torch.no_grad():\n",
        "    train_outputs = model(torch.FloatTensor(X_train))\n",
        "    _, train_predicted = torch.max(train_outputs.data, 1)\n",
        "    test_outputs = model(torch.FloatTensor(X_test))\n",
        "    _, test_predicted = torch.max(test_outputs.data, 1)\n",
        "\n",
        "print(\"Training Accuracy:\", accuracy_score(y_train, train_predicted.numpy()))\n",
        "print(\"Test Accuracy:\", accuracy_score(y_test, test_predicted.numpy()))\n",
        "print(\"\\nClassification Report (Test Data):\\n\", classification_report(y_test, test_predicted.numpy()))\n",
        "print(\"\\nConfusion Matrix (Test Data):\\n\", confusion_matrix(y_test, test_predicted.numpy()))\n"
      ],
      "metadata": {
        "id": "ALY8jqgLexr7"
      },
      "execution_count": null,
      "outputs": []
    }
  ]
}