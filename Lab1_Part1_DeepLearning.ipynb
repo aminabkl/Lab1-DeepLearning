{
  "cells": [
    {
      "cell_type": "code",
      "execution_count": null,
      "metadata": {
        "colab": {
          "base_uri": "https://localhost:8080/"
        },
        "id": "BX2QqwWa8XPR",
        "outputId": "e4461de4-e185-4d72-f45b-b3deb3b712c1"
      },
      "outputs": [
        {
          "name": "stdout",
          "output_type": "stream",
          "text": [
            "Mounted at /content/drive\n"
          ]
        }
      ],
      "source": [
        "from google.colab import drive\n",
        "drive.mount('/content/drive')"
      ]
    },
    {
      "cell_type": "code",
      "execution_count": null,
      "metadata": {
        "id": "Zy1q-7vO8keu"
      },
      "outputs": [],
      "source": [
        "%pip install pandas\n",
        "%pip install matplotlib\n",
        "%pip install seaborn\n",
        "%pip install torch\n",
        "%pip install sklearn\n",
        "%pip install skorch"
      ]
    },
    {
      "cell_type": "code",
      "execution_count": null,
      "metadata": {
        "id": "p2SSICkB-W3g"
      },
      "outputs": [],
      "source": [
        "# Import necessary libraries\n",
        "import pandas as pd\n",
        "import seaborn as sns\n",
        "import matplotlib.pyplot as plt\n",
        "from sklearn.model_selection import train_test_split\n",
        "from sklearn.preprocessing import StandardScaler\n",
        "from sklearn.model_selection import GridSearchCV\n",
        "import torch\n",
        "import torch.nn as nn\n",
        "import torch.optim as optim\n",
        "from numpy import vstack,sqrt\n",
        "from pandas import read_csv,to_datetime\n",
        "from sklearn.metrics import mean_squared_error\n",
        "from torch.utils.data import Dataset,DataLoader,random_split\n",
        "from torch import Tensor\n",
        "from torch.nn import ReLU,Module,MSELoss,Linear\n",
        "from torch.optim import SGD\n",
        "from torch.nn.init import xavier_uniform_\n",
        "from tqdm import tqdm"
      ]
    },
    {
      "cell_type": "code",
      "execution_count": null,
      "metadata": {
        "id": "0GYYViuN-acp"
      },
      "outputs": [],
      "source": [
        "###### Q1 : Exploratory Data Analysis (EDA)\n",
        "# Load the data\n",
        "prices_dt = '/content/drive/MyDrive/Colab Notebooks/datasets/prices-split-adjusted.csv'\n",
        "df = pd.read_csv(prices_dt)\n",
        "\n",
        "# Understand the structure of the data\n",
        "print(df.describe())\n",
        "print(df.info())\n",
        "print(df.isnull().sum())\n",
        "\n",
        "# Visualize the data\n",
        "sns.pairplot(df)\n",
        "plt.show()"
      ]
    },
    {
      "cell_type": "code",
      "execution_count": null,
      "metadata": {
        "id": "ea-Hhug8DL_4"
      },
      "outputs": [],
      "source": [
        "###### Q2 : Deep Neural Network Architecture for Regression\n",
        "\n",
        "# dataset definition perparation\n",
        "class CSVDataset(Dataset):\n",
        "    # load the dataset\n",
        "    def __init__(self, path):\n",
        "        # load the csv file as a dataframe\n",
        "        df = read_csv(path, header=None, skiprows=1)  # Skip the header\n",
        "\n",
        "        # Convert 'date' to a numeric representation\n",
        "        df.iloc[:, 0] = (to_datetime(df.iloc[:, 0]) - to_datetime(df.iloc[:, 0].min())).dt.days\n",
        "\n",
        "\n",
        "        df.head()\n",
        "        # store the inputs and outputs\n",
        "        self.X = df.values[:, :-1].astype('float32')\n",
        "        self.y = df.values[:, -1].astype('float32')\n",
        "        # ensure target has the right shape\n",
        "        self.y = self.y.reshape((len(self.y), 1))\n",
        "\n",
        "    # number of rows in the dataset\n",
        "    def __len__(self):\n",
        "        return len(self.X)\n",
        "\n",
        "    # get a row at an index\n",
        "    def __getitem__(self, idx):\n",
        "        return [self.X[idx], self.y[idx]]\n",
        "\n",
        "    # get indexes for train and test rows\n",
        "    def get_splits(self, n_test=0.33):\n",
        "        # determine sizes\n",
        "        test_size = round(n_test * len(self.X))\n",
        "        train_size = len(self.X) - test_size\n",
        "        # calculate the split\n",
        "        return random_split(self, [train_size, test_size])\n",
        "\n",
        "# model definition\n",
        "class MLP(Module):\n",
        "    # define model elements\n",
        "    def __init__(self, n_inputs):\n",
        "        super(MLP, self).__init__()\n",
        "        # input to first hidden layer\n",
        "        self.hidden1 = Linear(n_inputs, 10)\n",
        "        xavier_uniform_(self.hidden1.weight)\n",
        "        self.act1 = ReLU()\n",
        "        # second hidden layer\n",
        "        self.hidden2 = Linear(10, 8)\n",
        "        xavier_uniform_(self.hidden2.weight)\n",
        "        self.act2 = ReLU()\n",
        "        # third hidden layer and output\n",
        "        self.hidden3 = Linear(8, 1)\n",
        "        xavier_uniform_(self.hidden3.weight)\n",
        "\n",
        "    # forward propagate input\n",
        "    def forward(self, X):\n",
        "        # input to first hidden layer\n",
        "        X = self.hidden1(X)\n",
        "        X = self.act1(X)\n",
        "        # second hidden layer\n",
        "        X = self.hidden2(X)\n",
        "        X = self.act2(X)\n",
        "        # third hidden layer and output\n",
        "        X = self.hidden3(X)\n",
        "        return X\n",
        "\n",
        "# prepare the dataset\n",
        "def prepare_data(path):\n",
        "    # load the dataset\n",
        "    dataset = CSVDataset(path)\n",
        "    # calculate split\n",
        "    train, test = dataset.get_splits()\n",
        "    # prepare data loaders\n",
        "    train_dl = DataLoader(train, batch_size=32, shuffle=True)\n",
        "    test_dl = DataLoader(test, batch_size=32, shuffle=False)\n",
        "    return train_dl, test_dl\n",
        "\n",
        "# train the model\n",
        "def train_model(train_dl, model):\n",
        "    size = len(train_dl.dataset)\n",
        "    # define the optimization\n",
        "    criterion = MSELoss()\n",
        "    optimizer = SGD(model.parameters(), lr=0.01, momentum=0.9)\n",
        "    # enumerate epochs\n",
        "    # enumerate epochs\n",
        "    for epoch in tqdm(range(100),desc='Training Epochs'):\n",
        "        print(f\"Epoch {epoch+1}\\n-------------------------------\")\n",
        "        # enumerate mini batches\n",
        "        for batch, (inputs, targets) in enumerate(train_dl):\n",
        "            # clear the gradients\n",
        "            optimizer.zero_grad()\n",
        "            # compute the model output\n",
        "            yhat = model(inputs)\n",
        "            # calculate loss\n",
        "            loss = criterion(yhat, targets)\n",
        "            # credit assignment\n",
        "            loss.backward()\n",
        "            # update model weights\n",
        "            optimizer.step()\n",
        "\n",
        "            if batch % 100 == 0:\n",
        "                loss, current = loss.item(), batch * len(inputs)\n",
        "                print(f\"loss: {loss:>7f}  [{current:>5d}/{size:>5d}]\")\n",
        "\n",
        "# evaluate the model\n",
        "def evaluate_model(test_dl, model):\n",
        "    predictions, actuals = list(), list()\n",
        "    for i, (inputs, targets) in enumerate(test_dl):\n",
        "        # evaluate the model on the test set\n",
        "        yhat = model(inputs)\n",
        "        # retrieve numpy array\n",
        "        yhat = yhat.detach().numpy()\n",
        "        actual = targets.numpy()\n",
        "        actual = actual.reshape((len(actual), 1))\n",
        "        # store\n",
        "        predictions.append(yhat)\n",
        "        actuals.append(actual)\n",
        "    predictions, actuals = vstack(predictions), vstack(actuals)\n",
        "    # calculate mse\n",
        "    mse = mean_squared_error(actuals, predictions)\n",
        "    return mse\n",
        "\n",
        "# make a class prediction for one row of data\n",
        "def predict(row, model):\n",
        "    # convert row to data\n",
        "    row = Tensor([row])\n",
        "    # make prediction\n",
        "    yhat = model(row)\n",
        "    # retrieve numpy array\n",
        "    yhat = yhat.detach().numpy()\n",
        "    return yhat"
      ]
    },
    {
      "cell_type": "code",
      "execution_count": null,
      "metadata": {
        "id": "LHgsZsdoG_Y-"
      },
      "outputs": [],
      "source": [
        "X = df.drop(['date', 'symbol', 'volume'], axis=1)\n",
        "X = X[['low', 'high', 'open', 'close']]\n",
        "\n",
        "prices_dt_adjusted = '/content/drive/MyDrive/Colab Notebooks/datasets/prices-split-adjusted-2.csv'\n",
        "\n",
        "X.to_csv(prices_dt_adjusted, index=False)\n",
        "X = pd.read_csv(prices_dt_adjusted, skiprows=1)\n",
        "X.to_csv(prices_dt_adjusted, index=False)\n",
        "\n",
        "train_dl, test_dl = prepare_data(prices_dt_adjusted)\n",
        "print(len(train_dl.dataset), len(test_dl.dataset))\n",
        "model = MLP(3)\n",
        "train_losses = train_model(train_dl, model)"
      ]
    },
    {
      "cell_type": "code",
      "execution_count": null,
      "metadata": {
        "id": "4ehpmH4wOlX9"
      },
      "outputs": [],
      "source": [
        "###### Q3 : Hyperparameter Tuning\n",
        "\n",
        "mlp = MLP(n_inputs=3)\n",
        "grid_search = GridSearchCV(mlp, param_grid, cv=3, scoring='neg_mean_squared_error', n_jobs=-1)\n",
        "grid_search.fit(X_train, y_train)\n",
        "\n",
        "print(\"Best Parameters: \", grid_search.best_params_)\n",
        "print(\"Best Negative Mean Squared Error: \", grid_search.best_score_)\n",
        "\n",
        "best_model = grid_search.best_estimator_\n",
        "y_pred = best_model.predict(X_test)\n",
        "test_mse = mean_squared_error(y_test, y_pred)\n",
        "\n",
        "print(\"Test Mean Squared Error with Best Model: \", test_mse)"
      ]
    },
    {
      "cell_type": "code",
      "execution_count": null,
      "metadata": {
        "id": "8WgaB_lFP3CP"
      },
      "outputs": [],
      "source": [
        "###### Q4 : Visualization\n",
        "\n",
        "plt.plot(range(1, len(train_losses) + 1), train_losses, label='Training Loss')\n",
        "plt.xlabel('Epochs')\n",
        "plt.ylabel('Loss')\n",
        "plt.title('Loss vs Epochs')\n",
        "plt.legend()\n",
        "plt.show()"
      ]
    },
    {
      "cell_type": "code",
      "execution_count": null,
      "metadata": {
        "id": "mSv_R1ViQaGv"
      },
      "outputs": [],
      "source": [
        "###### Q5 : Regularization Techniques\n",
        "# L2 regularization\n",
        "class RegularizedRegressionNN(nn.Module):\n",
        "    def __init__(self, input_dim):\n",
        "        super(RegularizedRegressionNN, self).__init__()\n",
        "        self.fc1 = nn.Linear(input_dim, 64)\n",
        "        self.fc2 = nn.Linear(64, 32)\n",
        "        self.fc3 = nn.Linear(32, 1)\n",
        "        self.dropout = nn.Dropout(0.2)\n",
        "\n",
        "    def forward(self, x):\n",
        "        x = torch.relu(self.fc1(x))\n",
        "        x = self.dropout(x)\n",
        "        x = torch.relu(self.fc2(x))\n",
        "        x = self.dropout(x)\n",
        "        x = self.fc3(x)\n",
        "        return x"
      ]
    }
  ],
  "metadata": {
    "accelerator": "GPU",
    "colab": {
      "gpuType": "T4",
      "provenance": []
    },
    "kernelspec": {
      "display_name": "Python 3",
      "name": "python3"
    },
    "language_info": {
      "name": "python"
    }
  },
  "nbformat": 4,
  "nbformat_minor": 0
}
